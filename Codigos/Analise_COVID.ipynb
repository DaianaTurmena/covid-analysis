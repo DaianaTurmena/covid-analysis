{
  "nbformat": 4,
  "nbformat_minor": 0,
  "metadata": {
    "colab": {
      "provenance": []
    },
    "kernelspec": {
      "name": "python3",
      "display_name": "Python 3"
    },
    "language_info": {
      "name": "python"
    }
  },
  "cells": [
    {
      "cell_type": "code",
      "source": [
        "# PASSO 1: Preparar o ambiente\n",
        "!pip install pandas-gbq --quiet\n",
        "import pandas as pd\n",
        "from pandas_gbq import read_gbq\n",
        "\n",
        "# PASSO 2: Configurar seu projeto (FÁCIL)\n",
        "# Vá em https://console.cloud.google.com/\n",
        "# Veja o nome do projeto no topo da página (ex: \"meu-projeto-123456\")\n",
        "# Cole entre as aspas abaixo:\n",
        "project_id = 'bigquery-public-data-464623'  # <<< IMPORTANTE!\n",
        "\n",
        "# PASSO 3: Extrair dados do Brasil automaticamente\n",
        "query = \"\"\"\n",
        "SELECT\n",
        "  date AS data,\n",
        "  new_confirmed AS novos_casos,\n",
        "  new_deceased AS novas_mortes\n",
        "FROM\n",
        "  `bigquery-public-data.covid19_open_data.covid19_open_data`\n",
        "WHERE\n",
        "  country_name = 'Brazil'\n",
        "  AND date BETWEEN '2020-01-01' AND '2021-12-31'\n",
        "ORDER BY date\n",
        "\"\"\"\n",
        "\n",
        "df = read_gbq(query, project_id=project_id)\n",
        "print(\"Dados extraídos com sucesso!\")\n",
        "print(f\"Total de registros: {len(df)}\")"
      ],
      "metadata": {
        "colab": {
          "base_uri": "https://localhost:8080/"
        },
        "id": "huZuSsDrYz4r",
        "outputId": "7960ff7c-8e0e-4585-856a-4474f146980a"
      },
      "execution_count": 5,
      "outputs": [
        {
          "output_type": "stream",
          "name": "stdout",
          "text": [
            "Downloading: 100%|\u001b[32m██████████\u001b[0m|\n",
            "Dados extraídos com sucesso!\n",
            "Total de registros: 4105296\n"
          ]
        }
      ]
    },
    {
      "cell_type": "code",
      "source": [
        "# Salvar os dados completos (opcional - grande arquivo!)\n",
        "df.to_csv('dados_completos_covid_brasil.csv', index=False)\n",
        "\n",
        "# Salvar uma amostra menor (recomendado)\n",
        "df_amostra = df.sample(10000)  # 10 mil linhas aleatórias\n",
        "df_amostra.to_csv('amostra_covid_brasil.csv', index=False)\n",
        "print(\"Amostra salva com sucesso!\")"
      ],
      "metadata": {
        "colab": {
          "base_uri": "https://localhost:8080/"
        },
        "id": "_RzLxabRa2Sn",
        "outputId": "f01ce786-3912-4bb9-965b-20c12a6077e9"
      },
      "execution_count": 6,
      "outputs": [
        {
          "output_type": "stream",
          "name": "stdout",
          "text": [
            "Amostra salva com sucesso!\n"
          ]
        }
      ]
    },
    {
      "cell_type": "code",
      "source": [
        "# Ver as primeiras linhas\n",
        "print(\"Primeiras linhas:\")\n",
        "print(df.head())\n",
        "\n",
        "# Ver informações básicas\n",
        "print(\"\\nInformações do dataset:\")\n",
        "print(df.info())\n",
        "\n",
        "# Estatísticas descritivas\n",
        "print(\"\\nEstatísticas básicas:\")\n",
        "print(df.describe())"
      ],
      "metadata": {
        "colab": {
          "base_uri": "https://localhost:8080/"
        },
        "id": "FCCNQsVnbA70",
        "outputId": "6c495db0-fde6-42bd-9328-41bb955767d0"
      },
      "execution_count": 7,
      "outputs": [
        {
          "output_type": "stream",
          "name": "stdout",
          "text": [
            "Primeiras linhas:\n",
            "         data  novos_casos  novas_mortes\n",
            "0  2020-01-01            0          <NA>\n",
            "1  2020-01-01            1          <NA>\n",
            "2  2020-01-01         <NA>          <NA>\n",
            "3  2020-01-01         <NA>          <NA>\n",
            "4  2020-01-01         <NA>          <NA>\n",
            "\n",
            "Informações do dataset:\n",
            "<class 'pandas.core.frame.DataFrame'>\n",
            "RangeIndex: 4105296 entries, 0 to 4105295\n",
            "Data columns (total 3 columns):\n",
            " #   Column        Dtype \n",
            "---  ------        ----- \n",
            " 0   data          dbdate\n",
            " 1   novos_casos   Int64 \n",
            " 2   novas_mortes  Int64 \n",
            "dtypes: Int64(2), dbdate(1)\n",
            "memory usage: 101.8 MB\n",
            "None\n",
            "\n",
            "Estatísticas básicas:\n",
            "       novos_casos  novas_mortes\n",
            "count    3647097.0     3614213.0\n",
            "mean     19.490012      0.555163\n",
            "std     610.091384      18.77662\n",
            "min       -59429.0       -4109.0\n",
            "25%            0.0           0.0\n",
            "50%            0.0           0.0\n",
            "75%            2.0           0.0\n",
            "max       150106.0        4249.0\n"
          ]
        }
      ]
    },
    {
      "cell_type": "code",
      "source": [
        "total_casos = df['novos_casos'].sum()\n",
        "total_mortes = df['novas_mortes'].sum()\n",
        "print(f\"Total de casos no período: {total_casos:,}\")\n",
        "print(f\"Total de mortes no período: {total_mortes:,}\")"
      ],
      "metadata": {
        "colab": {
          "base_uri": "https://localhost:8080/"
        },
        "id": "mEddupWwbC8b",
        "outputId": "80222e0c-6818-419b-af1a-1ad6eac03d35"
      },
      "execution_count": 8,
      "outputs": [
        {
          "output_type": "stream",
          "name": "stdout",
          "text": [
            "Total de casos no período: 71,081,963\n",
            "Total de mortes no período: 2,006,477\n"
          ]
        }
      ]
    },
    {
      "cell_type": "code",
      "source": [
        "dia_mais_casos = df.loc[df['novos_casos'].idxmax()]\n",
        "print(\"\\n📅 Dia com mais casos:\")\n",
        "print(f\"Data: {dia_mais_casos['data']}\")\n",
        "print(f\"Casos: {dia_mais_casos['novos_casos']:,}\")"
      ],
      "metadata": {
        "colab": {
          "base_uri": "https://localhost:8080/"
        },
        "id": "CJImkIysbGom",
        "outputId": "70c95021-44a3-4877-c0cf-36a8a09e1348"
      },
      "execution_count": 9,
      "outputs": [
        {
          "output_type": "stream",
          "name": "stdout",
          "text": [
            "\n",
            "📅 Dia com mais casos:\n",
            "Data: 2021-09-18\n",
            "Casos: 150,106\n"
          ]
        }
      ]
    },
    {
      "cell_type": "code",
      "source": [
        "# Calcular média móvel\n",
        "df['media_movel_casos'] = df['novos_casos'].rolling(window=7).mean()\n",
        "\n",
        "# Ver últimos dias\n",
        "print(\"\\nMédia móvel de casos (últimos 5 dias):\")\n",
        "print(df[['data', 'media_movel_casos']].tail())"
      ],
      "metadata": {
        "colab": {
          "base_uri": "https://localhost:8080/"
        },
        "id": "FBFY_nF5bKGv",
        "outputId": "c6e25bf4-f6d7-43c8-e6d8-d3c50587b6b9"
      },
      "execution_count": 10,
      "outputs": [
        {
          "output_type": "stream",
          "name": "stdout",
          "text": [
            "\n",
            "Média móvel de casos (últimos 5 dias):\n",
            "               data  media_movel_casos\n",
            "4105291  2021-12-31          37.857143\n",
            "4105292  2021-12-31          74.285714\n",
            "4105293  2021-12-31          74.285714\n",
            "4105294  2021-12-31          74.285714\n",
            "4105295  2021-12-31          74.714286\n"
          ]
        }
      ]
    },
    {
      "cell_type": "code",
      "source": [
        "import matplotlib.pyplot as plt\n",
        "\n",
        "# Configurar o gráfico\n",
        "plt.figure(figsize=(12, 6))\n",
        "\n",
        "# Plotar dados\n",
        "plt.plot(df['data'], df['novos_casos'], alpha=0.3, label='Casos diários')\n",
        "plt.plot(df['data'], df['media_movel_casos'], 'r-', linewidth=2, label='Média 7 dias')\n",
        "\n",
        "# Adicionar detalhes\n",
        "plt.title(\"Evolução de Casos de COVID-19 no Brasil (2020-2021)\")\n",
        "plt.xlabel(\"Data\")\n",
        "plt.ylabel(\"Número de Casos\")\n",
        "plt.grid(True)\n",
        "plt.legend()\n",
        "\n",
        "# Mostrar o gráfico\n",
        "plt.show()\n",
        "\n",
        "# Salvar o gráfico\n",
        "plt.savefig('evolucao_casos_brasil.png')\n",
        "print(\"Gráfico salvo como 'evolucao_casos_brasil.png'\")"
      ],
      "metadata": {
        "colab": {
          "base_uri": "https://localhost:8080/",
          "height": 653
        },
        "id": "AkYJgYpubMCb",
        "outputId": "04c61382-32be-41b7-ecae-b14d3781ea83"
      },
      "execution_count": 11,
      "outputs": [
        {
          "output_type": "stream",
          "name": "stderr",
          "text": [
            "/usr/local/lib/python3.11/dist-packages/IPython/core/pylabtools.py:151: UserWarning: Creating legend with loc=\"best\" can be slow with large amounts of data.\n",
            "  fig.canvas.print_figure(bytes_io, **kw)\n"
          ]
        },
        {
          "output_type": "display_data",
          "data": {
            "text/plain": [
              "<Figure size 1200x600 with 1 Axes>"
            ],
            "image/png": "[encoded data removed]"
          },
          "metadata": {}
        },
        {
          "output_type": "stream",
          "name": "stdout",
          "text": [
            "Gráfico salvo como 'evolucao_casos_brasil.png'\n"
          ]
        },
        {
          "output_type": "display_data",
          "data": {
            "text/plain": [
              "<Figure size 640x480 with 0 Axes>"
            ]
          },
          "metadata": {}
        }
      ]
    },
    {
      "cell_type": "code",
      "source": [
        "from google.colab import files\n",
        "\n",
        "# Baixar arquivos para seu computador\n",
        "files.download('amostra_covid_brasil.csv')  # Se criou a amostra\n",
        "files.download('evolucao_casos_brasil.png')  # O gráfico gerado\n",
        "\n",
        "# Se salvou os dados completos (cuidado - arquivo grande!)\n",
        "# files.download('dados_completos_covid_brasil.csv')"
      ],
      "metadata": {
        "colab": {
          "base_uri": "https://localhost:8080/",
          "height": 17
        },
        "id": "2Jymb-5nbeFF",
        "outputId": "be5c988f-e0bb-417f-b5a2-d7b65f8eb1a7"
      },
      "execution_count": 12,
      "outputs": [
        {
          "output_type": "display_data",
          "data": {
            "text/plain": [
              "<IPython.core.display.Javascript object>"
            ],
            "application/javascript": [
              "\n",
              "    async function download(id, filename, size) {\n",
              "      if (!google.colab.kernel.accessAllowed) {\n",
              "        return;\n",
              "      }\n",
              "      const div = document.createElement('div');\n",
              "      const label = document.createElement('label');\n",
              "      label.textContent = `Downloading \"${filename}\": `;\n",
              "      div.appendChild(label);\n",
              "      const progress = document.createElement('progress');\n",
              "      progress.max = size;\n",
              "      div.appendChild(progress);\n",
              "      document.body.appendChild(div);\n",
              "\n",
              "      const buffers = [];\n",
              "      let downloaded = 0;\n",
              "\n",
              "      const channel = await google.colab.kernel.comms.open(id);\n",
              "      // Send a message to notify the kernel that we're ready.\n",
              "      channel.send({})\n",
              "\n",
              "      for await (const message of channel.messages) {\n",
              "        // Send a message to notify the kernel that we're ready.\n",
              "        channel.send({})\n",
              "        if (message.buffers) {\n",
              "          for (const buffer of message.buffers) {\n",
              "            buffers.push(buffer);\n",
              "            downloaded += buffer.byteLength;\n",
              "            progress.value = downloaded;\n",
              "          }\n",
              "        }\n",
              "      }\n",
              "      const blob = new Blob(buffers, {type: 'application/binary'});\n",
              "      const a = document.createElement('a');\n",
              "      a.href = window.URL.createObjectURL(blob);\n",
              "      a.download = filename;\n",
              "      div.appendChild(a);\n",
              "      a.click();\n",
              "      div.remove();\n",
              "    }\n",
              "  "
            ]
          },
          "metadata": {}
        },
        {
          "output_type": "display_data",
          "data": {
            "text/plain": [
              "<IPython.core.display.Javascript object>"
            ],
            "application/javascript": [
              "download(\"download_6b965a55-e18a-471e-a259-5e8a0027f5df\", \"amostra_covid_brasil.csv\", 149050)"
            ]
          },
          "metadata": {}
        },
        {
          "output_type": "display_data",
          "data": {
            "text/plain": [
              "<IPython.core.display.Javascript object>"
            ],
            "application/javascript": [
              "\n",
              "    async function download(id, filename, size) {\n",
              "      if (!google.colab.kernel.accessAllowed) {\n",
              "        return;\n",
              "      }\n",
              "      const div = document.createElement('div');\n",
              "      const label = document.createElement('label');\n",
              "      label.textContent = `Downloading \"${filename}\": `;\n",
              "      div.appendChild(label);\n",
              "      const progress = document.createElement('progress');\n",
              "      progress.max = size;\n",
              "      div.appendChild(progress);\n",
              "      document.body.appendChild(div);\n",
              "\n",
              "      const buffers = [];\n",
              "      let downloaded = 0;\n",
              "\n",
              "      const channel = await google.colab.kernel.comms.open(id);\n",
              "      // Send a message to notify the kernel that we're ready.\n",
              "      channel.send({})\n",
              "\n",
              "      for await (const message of channel.messages) {\n",
              "        // Send a message to notify the kernel that we're ready.\n",
              "        channel.send({})\n",
              "        if (message.buffers) {\n",
              "          for (const buffer of message.buffers) {\n",
              "            buffers.push(buffer);\n",
              "            downloaded += buffer.byteLength;\n",
              "            progress.value = downloaded;\n",
              "          }\n",
              "        }\n",
              "      }\n",
              "      const blob = new Blob(buffers, {type: 'application/binary'});\n",
              "      const a = document.createElement('a');\n",
              "      a.href = window.URL.createObjectURL(blob);\n",
              "      a.download = filename;\n",
              "      div.appendChild(a);\n",
              "      a.click();\n",
              "      div.remove();\n",
              "    }\n",
              "  "
            ]
          },
          "metadata": {}
        },
        {
          "output_type": "display_data",
          "data": {
            "text/plain": [
              "<IPython.core.display.Javascript object>"
            ],
            "application/javascript": [
              "download(\"download_9fb5807f-2806-405e-a08c-0503666fef7d\", \"evolucao_casos_brasil.png\", 2397)"
            ]
          },
          "metadata": {}
        }
      ]
    },
    {
      "cell_type": "code",
      "source": [
        "# Verificar e converter tipos de dados\n",
        "print(\"Antes da conversão:\")\n",
        "print(df.dtypes)\n",
        "\n",
        "# Converter 'data' para datetime se necessário\n",
        "if not pd.api.types.is_datetime64_any_dtype(df['data']):\n",
        "    try:\n",
        "        df['data'] = pd.to_datetime(df['data'])\n",
        "        print(\"\\n✅ Coluna 'data' convertida para datetime!\")\n",
        "    except Exception as e:\n",
        "        print(f\"\\n⚠️ Erro na conversão: {e}\")\n",
        "\n",
        "print(\"\\nDepois da conversão:\")\n",
        "print(df.dtypes)"
      ],
      "metadata": {
        "colab": {
          "base_uri": "https://localhost:8080/"
        },
        "id": "p21jHJWyc71R",
        "outputId": "0907bd95-0ae5-4d82-f396-42363136ce08"
      },
      "execution_count": 16,
      "outputs": [
        {
          "output_type": "stream",
          "name": "stdout",
          "text": [
            "Antes da conversão:\n",
            "data                 datetime64[ns]\n",
            "novos_casos                   Int64\n",
            "novas_mortes                  Int64\n",
            "media_movel_casos           float64\n",
            "dtype: object\n",
            "\n",
            "Depois da conversão:\n",
            "data                 datetime64[ns]\n",
            "novos_casos                   Int64\n",
            "novas_mortes                  Int64\n",
            "media_movel_casos           float64\n",
            "dtype: object\n"
          ]
        }
      ]
    },
    {
      "cell_type": "code",
      "source": [
        "# Criar coluna de mês/ano\n",
        "if 'data' in df.columns:\n",
        "    # Verificar o tipo da coluna\n",
        "    if pd.api.types.is_datetime64_any_dtype(df['data']):\n",
        "        df['mes_ano'] = df['data'].dt.strftime('%Y-%m')\n",
        "    else:\n",
        "        # Tentar converter para datetime se for string\n",
        "        try:\n",
        "            df['data'] = pd.to_datetime(df['data'])\n",
        "            df['mes_ano'] = df['data'].dt.strftime('%Y-%m')\n",
        "        except:\n",
        "            # Se falhar, usar abordagem de string\n",
        "            df['mes_ano'] = df['data'].str[:7]\n",
        "\n",
        "    # Agrupar por mês\n",
        "    mensal = df.groupby('mes_ano').agg({\n",
        "        'novos_casos': 'sum',\n",
        "        'novas_mortes': 'sum'\n",
        "    }).reset_index()\n",
        "\n",
        "    # Encontrar pior mês para casos\n",
        "    if not mensal.empty:\n",
        "        pior_mes_casos = mensal.loc[mensal['novos_casos'].idxmax()]\n",
        "        print(f\"\\n🔥 Pior mês para casos: {pior_mes_casos['mes_ano']}\")\n",
        "        print(f\"Total de casos: {pior_mes_casos['novos_casos']:,}\")\n",
        "\n",
        "        # Encontrar pior mês para mortes\n",
        "        pior_mes_mortes = mensal.loc[mensal['novas_mortes'].idxmax()]\n",
        "        print(f\"\\n💀 Pior mês para mortes: {pior_mes_mortes['mes_ano']}\")\n",
        "        print(f\"Total de mortes: {pior_mes_mortes['novas_mortes']:,}\")\n",
        "\n",
        "        # Visualizar os 5 piores meses\n",
        "        print(\"\\n📊 Top 5 meses com mais casos:\")\n",
        "        print(mensal.sort_values('novos_casos', ascending=False).head(5))\n",
        "    else:\n",
        "        print(\"⚠️ Nenhum dado encontrado para agrupamento mensal\")\n",
        "else:\n",
        "    print(\"⚠️ Coluna 'data' não encontrada no DataFrame\")"
      ],
      "metadata": {
        "colab": {
          "base_uri": "https://localhost:8080/"
        },
        "id": "sDSoQ0FzdCST",
        "outputId": "b2f09ec1-0e3d-40ae-d587-0ac8421842e3"
      },
      "execution_count": 17,
      "outputs": [
        {
          "output_type": "stream",
          "name": "stdout",
          "text": [
            "\n",
            "🔥 Pior mês para casos: 2021-03\n",
            "Total de casos: 7,022,234\n",
            "\n",
            "💀 Pior mês para mortes: 2021-04\n",
            "Total de mortes: 266,850\n",
            "\n",
            "📊 Top 5 meses com mais casos:\n",
            "    mes_ano  novos_casos  novas_mortes\n",
            "14  2021-03      7022234        213475\n",
            "17  2021-06      6315108        177099\n",
            "15  2021-04      6074191        266850\n",
            "16  2021-05      5971427        189585\n",
            "12  2021-01      4858695         93275\n"
          ]
        }
      ]
    },
    {
      "cell_type": "code",
      "source": [
        "from google.colab import files\n",
        "\n",
        "# Baixar DataFrame com a análise mensal (dados agregados)\n",
        "mensal.to_csv('analise_mensal_covid.csv', index=False)\n",
        "files.download('analise_mensal_covid.csv')\n",
        "\n",
        "# Baixar gráfico da média móvel (se você gerou)\n",
        "try:\n",
        "    files.download('evolucao_casos_brasil.png')\n",
        "except:\n",
        "    print(\"Gráfico não encontrado, gere novamente se necessário\")"
      ],
      "metadata": {
        "colab": {
          "base_uri": "https://localhost:8080/",
          "height": 17
        },
        "id": "47Apc02cdwpo",
        "outputId": "4e1547f4-0375-41f8-d8e0-29640481b9ca"
      },
      "execution_count": 18,
      "outputs": [
        {
          "output_type": "display_data",
          "data": {
            "text/plain": [
              "<IPython.core.display.Javascript object>"
            ],
            "application/javascript": [
              "\n",
              "    async function download(id, filename, size) {\n",
              "      if (!google.colab.kernel.accessAllowed) {\n",
              "        return;\n",
              "      }\n",
              "      const div = document.createElement('div');\n",
              "      const label = document.createElement('label');\n",
              "      label.textContent = `Downloading \"${filename}\": `;\n",
              "      div.appendChild(label);\n",
              "      const progress = document.createElement('progress');\n",
              "      progress.max = size;\n",
              "      div.appendChild(progress);\n",
              "      document.body.appendChild(div);\n",
              "\n",
              "      const buffers = [];\n",
              "      let downloaded = 0;\n",
              "\n",
              "      const channel = await google.colab.kernel.comms.open(id);\n",
              "      // Send a message to notify the kernel that we're ready.\n",
              "      channel.send({})\n",
              "\n",
              "      for await (const message of channel.messages) {\n",
              "        // Send a message to notify the kernel that we're ready.\n",
              "        channel.send({})\n",
              "        if (message.buffers) {\n",
              "          for (const buffer of message.buffers) {\n",
              "            buffers.push(buffer);\n",
              "            downloaded += buffer.byteLength;\n",
              "            progress.value = downloaded;\n",
              "          }\n",
              "        }\n",
              "      }\n",
              "      const blob = new Blob(buffers, {type: 'application/binary'});\n",
              "      const a = document.createElement('a');\n",
              "      a.href = window.URL.createObjectURL(blob);\n",
              "      a.download = filename;\n",
              "      div.appendChild(a);\n",
              "      a.click();\n",
              "      div.remove();\n",
              "    }\n",
              "  "
            ]
          },
          "metadata": {}
        },
        {
          "output_type": "display_data",
          "data": {
            "text/plain": [
              "<IPython.core.display.Javascript object>"
            ],
            "application/javascript": [
              "download(\"download_3052c45d-2e5e-4223-bd34-d76ec64ed3b5\", \"analise_mensal_covid.csv\", 548)"
            ]
          },
          "metadata": {}
        },
        {
          "output_type": "display_data",
          "data": {
            "text/plain": [
              "<IPython.core.display.Javascript object>"
            ],
            "application/javascript": [
              "\n",
              "    async function download(id, filename, size) {\n",
              "      if (!google.colab.kernel.accessAllowed) {\n",
              "        return;\n",
              "      }\n",
              "      const div = document.createElement('div');\n",
              "      const label = document.createElement('label');\n",
              "      label.textContent = `Downloading \"${filename}\": `;\n",
              "      div.appendChild(label);\n",
              "      const progress = document.createElement('progress');\n",
              "      progress.max = size;\n",
              "      div.appendChild(progress);\n",
              "      document.body.appendChild(div);\n",
              "\n",
              "      const buffers = [];\n",
              "      let downloaded = 0;\n",
              "\n",
              "      const channel = await google.colab.kernel.comms.open(id);\n",
              "      // Send a message to notify the kernel that we're ready.\n",
              "      channel.send({})\n",
              "\n",
              "      for await (const message of channel.messages) {\n",
              "        // Send a message to notify the kernel that we're ready.\n",
              "        channel.send({})\n",
              "        if (message.buffers) {\n",
              "          for (const buffer of message.buffers) {\n",
              "            buffers.push(buffer);\n",
              "            downloaded += buffer.byteLength;\n",
              "            progress.value = downloaded;\n",
              "          }\n",
              "        }\n",
              "      }\n",
              "      const blob = new Blob(buffers, {type: 'application/binary'});\n",
              "      const a = document.createElement('a');\n",
              "      a.href = window.URL.createObjectURL(blob);\n",
              "      a.download = filename;\n",
              "      div.appendChild(a);\n",
              "      a.click();\n",
              "      div.remove();\n",
              "    }\n",
              "  "
            ]
          },
          "metadata": {}
        },
        {
          "output_type": "display_data",
          "data": {
            "text/plain": [
              "<IPython.core.display.Javascript object>"
            ],
            "application/javascript": [
              "download(\"download_388a4310-a201-494d-b52b-8c9a3f50a4ab\", \"evolucao_casos_brasil.png\", 2397)"
            ]
          },
          "metadata": {}
        }
      ]
    }
  ]
}